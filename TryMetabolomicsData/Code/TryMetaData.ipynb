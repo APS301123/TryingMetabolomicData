{
 "cells": [
  {
   "cell_type": "markdown",
   "id": "e832c7ee",
   "metadata": {},
   "source": [
    "<center><h1> Working with Metabolomics Data\n",
    "<center><h6> Aditya Subramanian"
   ]
  },
  {
   "cell_type": "markdown",
   "id": "13524010",
   "metadata": {},
   "source": [
    "**Dataset** : https://www.ebi.ac.uk/metabolights/editor/MTBLS6739/protocols"
   ]
  },
  {
   "cell_type": "code",
   "execution_count": 10,
   "id": "f9fdd698",
   "metadata": {},
   "outputs": [],
   "source": [
    "#fundamental imports\n",
    "import pandas as pd\n",
    "import numpy as np\n",
    "import seaborn as sns\n",
    "import matplotlib.pyplot as plt\n",
    "\n",
    "#imports for UMAP\n",
    "import umap\n",
    "import umap.plot\n",
    "\n",
    "#imports for ML\n",
    "from sklearn.model_selection import train_test_split\n",
    "from sklearn.preprocessing import StandardScaler\n",
    "from sklearn import metrics\n",
    "\n",
    "#imports for random forest\n",
    "from sklearn.ensemble import RandomForestClassifier\n",
    "\n",
    "#imports for lgmb\n",
    "import lightgbm as lgb\n",
    "from sklearn.preprocessing import LabelEncoder\n",
    "\n",
    "%matplotlib inline"
   ]
  },
  {
   "cell_type": "code",
   "execution_count": 11,
   "id": "cfa98242",
   "metadata": {},
   "outputs": [],
   "source": [
    "#settings\n",
    "sns.set_theme(style = 'white', context = 'notebook', rc = {'figure.figsize':(14,10)})"
   ]
  },
  {
   "cell_type": "code",
   "execution_count": 12,
   "id": "559b7bb3",
   "metadata": {},
   "outputs": [],
   "source": [
    "#read in csv and set target\n",
    "df_features = pd.read_csv(\"../Datasets/m_MTBLS6739_LCxLC-MS_pos_metabolite_profiling_v2_maf.tsv\", sep = \"\\t\")"
   ]
  },
  {
   "cell_type": "markdown",
   "id": "4a35290b",
   "metadata": {},
   "source": [
    "<center><h1> Preprocessing"
   ]
  },
  {
   "cell_type": "code",
   "execution_count": 13,
   "id": "6340feb7",
   "metadata": {},
   "outputs": [],
   "source": [
    "#remove unnecessary columns from features\n",
    "df_features = df_features.drop(columns = df_features.columns[5:22])\n",
    "df_features = df_features.drop(columns = df_features.columns[0:4])\n",
    "\n",
    "#set target\n",
    "df_target = df_features.iloc[0]\n",
    "df_target = df_target.drop(df_target.index[0])\n",
    "\n",
    "#transpose target\n",
    "df_target = df_target.transpose()\n",
    "df_target = df_target.map({'TRUE': 1, 'FALSE': 0})\n",
    "\n",
    "#remove target from features\n",
    "df_features = df_features.drop(df_features.index[0])\n",
    "\n",
    "#transpose and set metabolites to column headers in features\n",
    "df_features = df_features.transpose()\n",
    "df_features.columns = df_features.iloc[0]\n",
    "df_features = df_features.drop(df_features.index[0])\n",
    "\n",
    "#remove duplicate columns in features\n",
    "df_features = df_features.loc[:, ~df_features.columns.duplicated()].copy()\n",
    "\n",
    "#cast objects to float\n",
    "df_features = df_features.astype(float)\n",
    "df_target = df_target.astype(float)"
   ]
  },
  {
   "cell_type": "code",
   "execution_count": 14,
   "id": "76aa4abc",
   "metadata": {},
   "outputs": [
    {
     "data": {
      "text/html": [
       "<div>\n",
       "<style scoped>\n",
       "    .dataframe tbody tr th:only-of-type {\n",
       "        vertical-align: middle;\n",
       "    }\n",
       "\n",
       "    .dataframe tbody tr th {\n",
       "        vertical-align: top;\n",
       "    }\n",
       "\n",
       "    .dataframe thead th {\n",
       "        text-align: right;\n",
       "    }\n",
       "</style>\n",
       "<table border=\"1\" class=\"dataframe\">\n",
       "  <thead>\n",
       "    <tr style=\"text-align: right;\">\n",
       "      <th>metabolite_identification</th>\n",
       "      <th>Sulfocysteine</th>\n",
       "      <th>Taurine</th>\n",
       "      <th>Pyroglutamic Acid</th>\n",
       "      <th>Aspartic Acid</th>\n",
       "      <th>Hydroxyproline</th>\n",
       "      <th>Asparagine</th>\n",
       "      <th>Serine</th>\n",
       "      <th>Glutamine</th>\n",
       "      <th>Glutamic Acid</th>\n",
       "      <th>Sarcosine</th>\n",
       "      <th>...</th>\n",
       "      <th>Isoleucine</th>\n",
       "      <th>Leucine</th>\n",
       "      <th>Phenylalanine</th>\n",
       "      <th>Tryptophan</th>\n",
       "      <th>Ornithine</th>\n",
       "      <th>1-Methylhistidine</th>\n",
       "      <th>3-Methylhistidine</th>\n",
       "      <th>Histidine</th>\n",
       "      <th>Lysine</th>\n",
       "      <th>Arginine</th>\n",
       "    </tr>\n",
       "  </thead>\n",
       "  <tbody>\n",
       "    <tr>\n",
       "      <th>plasma_crp_01</th>\n",
       "      <td>3.491482</td>\n",
       "      <td>203.599790</td>\n",
       "      <td>192710.4624</td>\n",
       "      <td>98.923870</td>\n",
       "      <td>51.361755</td>\n",
       "      <td>65.156375</td>\n",
       "      <td>357.233820</td>\n",
       "      <td>163.285809</td>\n",
       "      <td>875.795669</td>\n",
       "      <td>7.692426</td>\n",
       "      <td>...</td>\n",
       "      <td>265.713245</td>\n",
       "      <td>445.443710</td>\n",
       "      <td>309.443563</td>\n",
       "      <td>99.463594</td>\n",
       "      <td>232.181430</td>\n",
       "      <td>7.836114</td>\n",
       "      <td>80.653840</td>\n",
       "      <td>142.612945</td>\n",
       "      <td>672.357351</td>\n",
       "      <td>541.822960</td>\n",
       "    </tr>\n",
       "    <tr>\n",
       "      <th>plasma_crp_02</th>\n",
       "      <td>5.191624</td>\n",
       "      <td>52.832181</td>\n",
       "      <td>243181.8471</td>\n",
       "      <td>27.061255</td>\n",
       "      <td>12.231066</td>\n",
       "      <td>79.314477</td>\n",
       "      <td>216.649719</td>\n",
       "      <td>402.460486</td>\n",
       "      <td>547.281112</td>\n",
       "      <td>2.351550</td>\n",
       "      <td>...</td>\n",
       "      <td>315.298642</td>\n",
       "      <td>966.908365</td>\n",
       "      <td>287.715350</td>\n",
       "      <td>151.098759</td>\n",
       "      <td>122.992801</td>\n",
       "      <td>4.674881</td>\n",
       "      <td>59.574964</td>\n",
       "      <td>201.485916</td>\n",
       "      <td>625.336070</td>\n",
       "      <td>279.318182</td>\n",
       "    </tr>\n",
       "    <tr>\n",
       "      <th>plasma_crp_03</th>\n",
       "      <td>6.011404</td>\n",
       "      <td>77.654592</td>\n",
       "      <td>375235.0718</td>\n",
       "      <td>55.410885</td>\n",
       "      <td>62.166770</td>\n",
       "      <td>115.267721</td>\n",
       "      <td>306.457987</td>\n",
       "      <td>667.746118</td>\n",
       "      <td>1044.014188</td>\n",
       "      <td>6.722756</td>\n",
       "      <td>...</td>\n",
       "      <td>223.639425</td>\n",
       "      <td>533.465153</td>\n",
       "      <td>349.324636</td>\n",
       "      <td>93.289504</td>\n",
       "      <td>206.527753</td>\n",
       "      <td>3.727758</td>\n",
       "      <td>38.688733</td>\n",
       "      <td>225.972085</td>\n",
       "      <td>791.779315</td>\n",
       "      <td>405.244939</td>\n",
       "    </tr>\n",
       "    <tr>\n",
       "      <th>plasma_crp_04</th>\n",
       "      <td>7.544113</td>\n",
       "      <td>141.371358</td>\n",
       "      <td>230537.3596</td>\n",
       "      <td>64.640338</td>\n",
       "      <td>12.485969</td>\n",
       "      <td>23.048100</td>\n",
       "      <td>242.713621</td>\n",
       "      <td>188.655351</td>\n",
       "      <td>469.567813</td>\n",
       "      <td>3.736766</td>\n",
       "      <td>...</td>\n",
       "      <td>201.038686</td>\n",
       "      <td>326.701792</td>\n",
       "      <td>362.687686</td>\n",
       "      <td>70.074961</td>\n",
       "      <td>319.025599</td>\n",
       "      <td>1.790194</td>\n",
       "      <td>19.586817</td>\n",
       "      <td>193.779517</td>\n",
       "      <td>714.530556</td>\n",
       "      <td>331.674982</td>\n",
       "    </tr>\n",
       "    <tr>\n",
       "      <th>plasma_crp_06</th>\n",
       "      <td>4.803333</td>\n",
       "      <td>221.859500</td>\n",
       "      <td>641169.4088</td>\n",
       "      <td>86.717985</td>\n",
       "      <td>23.572179</td>\n",
       "      <td>65.665907</td>\n",
       "      <td>265.995606</td>\n",
       "      <td>952.744116</td>\n",
       "      <td>584.020957</td>\n",
       "      <td>2.952311</td>\n",
       "      <td>...</td>\n",
       "      <td>249.128080</td>\n",
       "      <td>432.814153</td>\n",
       "      <td>368.453408</td>\n",
       "      <td>79.919892</td>\n",
       "      <td>358.272201</td>\n",
       "      <td>5.334984</td>\n",
       "      <td>41.755196</td>\n",
       "      <td>188.502542</td>\n",
       "      <td>538.924973</td>\n",
       "      <td>276.583654</td>\n",
       "    </tr>\n",
       "  </tbody>\n",
       "</table>\n",
       "<p>5 rows × 37 columns</p>\n",
       "</div>"
      ],
      "text/plain": [
       "metabolite_identification  Sulfocysteine     Taurine  Pyroglutamic Acid  \\\n",
       "plasma_crp_01                   3.491482  203.599790        192710.4624   \n",
       "plasma_crp_02                   5.191624   52.832181        243181.8471   \n",
       "plasma_crp_03                   6.011404   77.654592        375235.0718   \n",
       "plasma_crp_04                   7.544113  141.371358        230537.3596   \n",
       "plasma_crp_06                   4.803333  221.859500        641169.4088   \n",
       "\n",
       "metabolite_identification  Aspartic Acid  Hydroxyproline  Asparagine  \\\n",
       "plasma_crp_01                  98.923870       51.361755   65.156375   \n",
       "plasma_crp_02                  27.061255       12.231066   79.314477   \n",
       "plasma_crp_03                  55.410885       62.166770  115.267721   \n",
       "plasma_crp_04                  64.640338       12.485969   23.048100   \n",
       "plasma_crp_06                  86.717985       23.572179   65.665907   \n",
       "\n",
       "metabolite_identification      Serine   Glutamine  Glutamic Acid  Sarcosine  \\\n",
       "plasma_crp_01              357.233820  163.285809     875.795669   7.692426   \n",
       "plasma_crp_02              216.649719  402.460486     547.281112   2.351550   \n",
       "plasma_crp_03              306.457987  667.746118    1044.014188   6.722756   \n",
       "plasma_crp_04              242.713621  188.655351     469.567813   3.736766   \n",
       "plasma_crp_06              265.995606  952.744116     584.020957   2.952311   \n",
       "\n",
       "metabolite_identification  ...  Isoleucine     Leucine  Phenylalanine  \\\n",
       "plasma_crp_01              ...  265.713245  445.443710     309.443563   \n",
       "plasma_crp_02              ...  315.298642  966.908365     287.715350   \n",
       "plasma_crp_03              ...  223.639425  533.465153     349.324636   \n",
       "plasma_crp_04              ...  201.038686  326.701792     362.687686   \n",
       "plasma_crp_06              ...  249.128080  432.814153     368.453408   \n",
       "\n",
       "metabolite_identification  Tryptophan   Ornithine  1-Methylhistidine  \\\n",
       "plasma_crp_01               99.463594  232.181430           7.836114   \n",
       "plasma_crp_02              151.098759  122.992801           4.674881   \n",
       "plasma_crp_03               93.289504  206.527753           3.727758   \n",
       "plasma_crp_04               70.074961  319.025599           1.790194   \n",
       "plasma_crp_06               79.919892  358.272201           5.334984   \n",
       "\n",
       "metabolite_identification  3-Methylhistidine   Histidine      Lysine  \\\n",
       "plasma_crp_01                      80.653840  142.612945  672.357351   \n",
       "plasma_crp_02                      59.574964  201.485916  625.336070   \n",
       "plasma_crp_03                      38.688733  225.972085  791.779315   \n",
       "plasma_crp_04                      19.586817  193.779517  714.530556   \n",
       "plasma_crp_06                      41.755196  188.502542  538.924973   \n",
       "\n",
       "metabolite_identification    Arginine  \n",
       "plasma_crp_01              541.822960  \n",
       "plasma_crp_02              279.318182  \n",
       "plasma_crp_03              405.244939  \n",
       "plasma_crp_04              331.674982  \n",
       "plasma_crp_06              276.583654  \n",
       "\n",
       "[5 rows x 37 columns]"
      ]
     },
     "execution_count": 14,
     "metadata": {},
     "output_type": "execute_result"
    }
   ],
   "source": [
    "df_features.head()"
   ]
  },
  {
   "cell_type": "code",
   "execution_count": 15,
   "id": "26369bf0",
   "metadata": {},
   "outputs": [
    {
     "data": {
      "text/plain": [
       "plasma_crp_01    0.0\n",
       "plasma_crp_02    0.0\n",
       "plasma_crp_03    0.0\n",
       "plasma_crp_04    0.0\n",
       "plasma_crp_06    0.0\n",
       "Name: 0, dtype: float64"
      ]
     },
     "execution_count": 15,
     "metadata": {},
     "output_type": "execute_result"
    }
   ],
   "source": [
    "df_target.head()"
   ]
  },
  {
   "cell_type": "markdown",
   "id": "03cd0553",
   "metadata": {},
   "source": [
    "<center><h1> UMAP Reduction"
   ]
  },
  {
   "cell_type": "code",
   "execution_count": 16,
   "id": "dbcbe63d",
   "metadata": {},
   "outputs": [
    {
     "name": "stderr",
     "output_type": "stream",
     "text": [
      "/opt/anaconda3/lib/python3.11/site-packages/umap/umap_.py:1952: UserWarning: n_jobs value 1 overridden to 1 by setting random_state. Use no seed for parallelism.\n",
      "  warn(\n"
     ]
    }
   ],
   "source": [
    "#standardize and apply umap\n",
    "df_standard = StandardScaler().fit_transform(df_features)\n",
    "reducer = umap.UMAP(n_components = 20, random_state = 4).fit(df_standard)\n",
    "\n",
    "#store in embedding\n",
    "embedding = reducer.transform(df_standard)"
   ]
  },
  {
   "cell_type": "markdown",
   "id": "1bdd1d76",
   "metadata": {},
   "source": [
    "<center><h1> Test ML Models"
   ]
  },
  {
   "cell_type": "code",
   "execution_count": 20,
   "id": "31fec598",
   "metadata": {},
   "outputs": [],
   "source": [
    "#split into test and train\n",
    "X_train, X_test, y_train, y_test = train_test_split(df_features, df_target, test_size = 0.25, random_state = 6)\n",
    "X_train_reduced, X_test_reduced, y_train_reduced, y_test_reduced = train_test_split(embedding, df_target, test_size = 0.25, random_state = 6)"
   ]
  },
  {
   "cell_type": "markdown",
   "id": "be3be8bc",
   "metadata": {},
   "source": [
    "<center><h3> Random Forest"
   ]
  },
  {
   "cell_type": "code",
   "execution_count": 21,
   "id": "abef5f7a",
   "metadata": {},
   "outputs": [],
   "source": [
    "#fit into decision tree\n",
    "rf =  RandomForestClassifier(random_state=1)\n",
    "rf = rf.fit(X_train, y_train)\n",
    "\n",
    "rf_reduced =  RandomForestClassifier(random_state=1)\n",
    "rf_reduced = rf_reduced.fit(X_train_reduced, y_train_reduced)"
   ]
  },
  {
   "cell_type": "markdown",
   "id": "683e8014",
   "metadata": {},
   "source": [
    "<center><h3> No Dimension Reduction"
   ]
  },
  {
   "cell_type": "code",
   "execution_count": 24,
   "id": "61b439d1",
   "metadata": {},
   "outputs": [
    {
     "name": "stdout",
     "output_type": "stream",
     "text": [
      "1.78 ms ± 31.3 µs per loop (mean ± std. dev. of 7 runs, 1,000 loops each)\n"
     ]
    },
    {
     "data": {
      "image/png": "[encoded data removed]",
      "text/plain": [
       "<Figure size 1400x1000 with 2 Axes>"
      ]
     },
     "metadata": {},
     "output_type": "display_data"
    }
   ],
   "source": [
    "#separate into predicted an actual values to create confusion matrix\n",
    "%timeit y_predictions = rf.predict(X_test)\n",
    "\n",
    "confusion_matrix = metrics.confusion_matrix(y_test, y_predictions)\n",
    "\n",
    "cm_display = metrics.ConfusionMatrixDisplay(confusion_matrix = confusion_matrix, display_labels = ['True', 'False'])\n",
    "\n",
    "cm_display.plot()\n",
    "plt.show()"
   ]
  },
  {
   "cell_type": "code",
   "execution_count": 25,
   "id": "df3e518b",
   "metadata": {},
   "outputs": [
    {
     "name": "stdout",
     "output_type": "stream",
     "text": [
      "{'Accuracy': 0.92, 'Precision': 0.9274603174603174, 'Recall_score': 0.92, 'F1_score': 0.921995841995842}\n"
     ]
    }
   ],
   "source": [
    "#calculate ml metrics\n",
    "accuracy = metrics.accuracy_score(y_test, y_predictions)\n",
    "precision = metrics.precision_score(y_test, y_predictions, average = 'weighted')\n",
    "recall = metrics.recall_score(y_test, y_predictions, average = 'weighted')\n",
    "f1 = metrics.f1_score(y_test, y_predictions, average = 'weighted')\n",
    "\n",
    "#print metrics\n",
    "print({\"Accuracy\": accuracy,\"Precision\": precision,\"Recall_score\": recall, \"F1_score\": f1})"
   ]
  },
  {
   "cell_type": "markdown",
   "id": "f0683b8d",
   "metadata": {},
   "source": [
    "<center><h3> Dimension Reduction"
   ]
  },
  {
   "cell_type": "code",
   "execution_count": 28,
   "id": "8675ec1e",
   "metadata": {},
   "outputs": [
    {
     "name": "stdout",
     "output_type": "stream",
     "text": [
      "1.56 ms ± 29.2 µs per loop (mean ± std. dev. of 7 runs, 1,000 loops each)\n"
     ]
    },
    {
     "data": {
      "image/png": "[encoded data removed]",
      "text/plain": [
       "<Figure size 1400x1000 with 2 Axes>"
      ]
     },
     "metadata": {},
     "output_type": "display_data"
    }
   ],
   "source": [
    "#separate into predicted an actual values to create confusion matrix\n",
    "%timeit y_predictions_reduced = rf_reduced.predict(X_test_reduced)\n",
    "\n",
    "confusion_matrix = metrics.confusion_matrix(y_test_reduced, y_predictions_reduced)\n",
    "\n",
    "cm_display = metrics.ConfusionMatrixDisplay(confusion_matrix = confusion_matrix, display_labels = ['True', 'False'])\n",
    "\n",
    "cm_display.plot()\n",
    "plt.show()"
   ]
  },
  {
   "cell_type": "code",
   "execution_count": 29,
   "id": "7848d6f6",
   "metadata": {},
   "outputs": [
    {
     "name": "stdout",
     "output_type": "stream",
     "text": [
      "{'Accuracy': 0.9, 'Precision': 0.9294117647058823, 'Recall_score': 0.9, 'F1_score': 0.905099562894609}\n"
     ]
    }
   ],
   "source": [
    "#calculate ml metrics\n",
    "accuracy = metrics.accuracy_score(y_test_reduced, y_predictions_reduced)\n",
    "precision = metrics.precision_score(y_test_reduced, y_predictions_reduced, average = 'weighted')\n",
    "recall = metrics.recall_score(y_test_reduced, y_predictions_reduced, average = 'weighted')\n",
    "f1 = metrics.f1_score(y_test_reduced, y_predictions_reduced, average = 'weighted')\n",
    "\n",
    "#print metrics\n",
    "print({\"Accuracy\": accuracy,\"Precision\": precision,\"Recall_score\": recall, \"F1_score\": f1})"
   ]
  },
  {
   "cell_type": "markdown",
   "id": "d22c6a37",
   "metadata": {},
   "source": [
    "Neither model appears overfit. The model fit with a dimensionally reduced dataset is less accurate(0.9 vs 0.92) and also has more false positives(5 vs 3). However, it is faster as it runs in 1.56 vs 1.78. Considering their similar accuracy and false positive rate, the UMAP dimension reduction appears effective despite its faster runtime."
   ]
  },
  {
   "cell_type": "markdown",
   "id": "cb668b08",
   "metadata": {},
   "source": [
    "<center><h3> LGBM"
   ]
  },
  {
   "cell_type": "code",
   "execution_count": 234,
   "id": "c6bc9cc7",
   "metadata": {},
   "outputs": [
    {
     "name": "stderr",
     "output_type": "stream",
     "text": [
      "python(46210) MallocStackLogging: can't turn off malloc stack logging because it was not enabled.\n"
     ]
    },
    {
     "name": "stdout",
     "output_type": "stream",
     "text": [
      "Requirement already satisfied: lightgbm in /opt/anaconda3/lib/python3.11/site-packages (4.6.0)\n",
      "Requirement already satisfied: numpy>=1.17.0 in /opt/anaconda3/lib/python3.11/site-packages (from lightgbm) (1.26.4)\n",
      "Requirement already satisfied: scipy in /opt/anaconda3/lib/python3.11/site-packages (from lightgbm) (1.13.1)\n",
      "Note: you may need to restart the kernel to use updated packages.\n"
     ]
    }
   ],
   "source": [
    "pip install lightgbm"
   ]
  },
  {
   "cell_type": "code",
   "execution_count": 44,
   "id": "90512f34",
   "metadata": {},
   "outputs": [
    {
     "name": "stdout",
     "output_type": "stream",
     "text": [
      "[LightGBM] [Warning] Found whitespace in feature_names, replace with underlines\n",
      "[LightGBM] [Info] Number of positive: 58, number of negative: 92\n",
      "[LightGBM] [Info] Auto-choosing col-wise multi-threading, the overhead of testing was 0.000182 seconds.\n",
      "You can set `force_col_wise=true` to remove the overhead.\n",
      "[LightGBM] [Info] Total Bins 1866\n",
      "[LightGBM] [Info] Number of data points in the train set: 150, number of used features: 37\n",
      "[LightGBM] [Info] [binary:BoostFromScore]: pavg=0.386667 -> initscore=-0.461346\n",
      "[LightGBM] [Info] Start training from score -0.461346\n",
      "[LightGBM] [Warning] No further splits with positive gain, best gain: -inf\n",
      "[LightGBM] [Warning] No further splits with positive gain, best gain: -inf\n",
      "[LightGBM] [Warning] No further splits with positive gain, best gain: -inf\n",
      "[LightGBM] [Warning] No further splits with positive gain, best gain: -inf\n",
      "[LightGBM] [Warning] No further splits with positive gain, best gain: -inf\n",
      "[LightGBM] [Warning] No further splits with positive gain, best gain: -inf\n",
      "[LightGBM] [Warning] No further splits with positive gain, best gain: -inf\n",
      "[LightGBM] [Warning] No further splits with positive gain, best gain: -inf\n",
      "[LightGBM] [Warning] No further splits with positive gain, best gain: -inf\n",
      "[LightGBM] [Warning] No further splits with positive gain, best gain: -inf\n",
      "[LightGBM] [Warning] No further splits with positive gain, best gain: -inf\n",
      "[LightGBM] [Warning] No further splits with positive gain, best gain: -inf\n",
      "[LightGBM] [Warning] No further splits with positive gain, best gain: -inf\n",
      "[LightGBM] [Warning] No further splits with positive gain, best gain: -inf\n",
      "[LightGBM] [Warning] No further splits with positive gain, best gain: -inf\n",
      "[LightGBM] [Warning] No further splits with positive gain, best gain: -inf\n",
      "[LightGBM] [Warning] No further splits with positive gain, best gain: -inf\n",
      "[LightGBM] [Warning] No further splits with positive gain, best gain: -inf\n",
      "[LightGBM] [Warning] No further splits with positive gain, best gain: -inf\n",
      "[LightGBM] [Warning] No further splits with positive gain, best gain: -inf\n",
      "[LightGBM] [Warning] No further splits with positive gain, best gain: -inf\n",
      "[LightGBM] [Warning] No further splits with positive gain, best gain: -inf\n",
      "[LightGBM] [Warning] No further splits with positive gain, best gain: -inf\n",
      "[LightGBM] [Warning] No further splits with positive gain, best gain: -inf\n",
      "[LightGBM] [Warning] No further splits with positive gain, best gain: -inf\n",
      "[LightGBM] [Warning] No further splits with positive gain, best gain: -inf\n",
      "[LightGBM] [Warning] No further splits with positive gain, best gain: -inf\n",
      "[LightGBM] [Warning] No further splits with positive gain, best gain: -inf\n",
      "[LightGBM] [Warning] No further splits with positive gain, best gain: -inf\n",
      "[LightGBM] [Warning] No further splits with positive gain, best gain: -inf\n",
      "[LightGBM] [Warning] No further splits with positive gain, best gain: -inf\n",
      "[LightGBM] [Warning] No further splits with positive gain, best gain: -inf\n",
      "[LightGBM] [Warning] No further splits with positive gain, best gain: -inf\n",
      "[LightGBM] [Warning] No further splits with positive gain, best gain: -inf\n",
      "[LightGBM] [Warning] No further splits with positive gain, best gain: -inf\n",
      "[LightGBM] [Warning] No further splits with positive gain, best gain: -inf\n",
      "[LightGBM] [Warning] No further splits with positive gain, best gain: -inf\n",
      "[LightGBM] [Warning] No further splits with positive gain, best gain: -inf\n",
      "[LightGBM] [Warning] No further splits with positive gain, best gain: -inf\n",
      "[LightGBM] [Warning] No further splits with positive gain, best gain: -inf\n",
      "[LightGBM] [Warning] No further splits with positive gain, best gain: -inf\n",
      "[LightGBM] [Warning] No further splits with positive gain, best gain: -inf\n",
      "[LightGBM] [Warning] No further splits with positive gain, best gain: -inf\n",
      "[LightGBM] [Warning] No further splits with positive gain, best gain: -inf\n",
      "[LightGBM] [Warning] No further splits with positive gain, best gain: -inf\n",
      "[LightGBM] [Warning] No further splits with positive gain, best gain: -inf\n",
      "[LightGBM] [Warning] No further splits with positive gain, best gain: -inf\n",
      "[LightGBM] [Warning] No further splits with positive gain, best gain: -inf\n",
      "[LightGBM] [Warning] No further splits with positive gain, best gain: -inf\n",
      "[LightGBM] [Warning] No further splits with positive gain, best gain: -inf\n",
      "[LightGBM] [Warning] No further splits with positive gain, best gain: -inf\n",
      "[LightGBM] [Warning] No further splits with positive gain, best gain: -inf\n",
      "[LightGBM] [Warning] No further splits with positive gain, best gain: -inf\n",
      "[LightGBM] [Warning] No further splits with positive gain, best gain: -inf\n",
      "[LightGBM] [Warning] No further splits with positive gain, best gain: -inf\n",
      "[LightGBM] [Warning] No further splits with positive gain, best gain: -inf\n",
      "[LightGBM] [Warning] No further splits with positive gain, best gain: -inf\n",
      "[LightGBM] [Warning] No further splits with positive gain, best gain: -inf\n",
      "[LightGBM] [Warning] No further splits with positive gain, best gain: -inf\n",
      "[LightGBM] [Warning] No further splits with positive gain, best gain: -inf\n",
      "[LightGBM] [Warning] No further splits with positive gain, best gain: -inf\n",
      "[LightGBM] [Warning] No further splits with positive gain, best gain: -inf\n",
      "[LightGBM] [Warning] No further splits with positive gain, best gain: -inf\n",
      "[LightGBM] [Warning] No further splits with positive gain, best gain: -inf\n",
      "[LightGBM] [Warning] No further splits with positive gain, best gain: -inf\n",
      "[LightGBM] [Warning] No further splits with positive gain, best gain: -inf\n",
      "[LightGBM] [Warning] No further splits with positive gain, best gain: -inf\n",
      "[LightGBM] [Warning] No further splits with positive gain, best gain: -inf\n",
      "[LightGBM] [Warning] No further splits with positive gain, best gain: -inf\n",
      "[LightGBM] [Warning] No further splits with positive gain, best gain: -inf\n",
      "[LightGBM] [Warning] No further splits with positive gain, best gain: -inf\n",
      "[LightGBM] [Warning] No further splits with positive gain, best gain: -inf\n",
      "[LightGBM] [Warning] No further splits with positive gain, best gain: -inf\n",
      "[LightGBM] [Warning] No further splits with positive gain, best gain: -inf\n",
      "[LightGBM] [Warning] No further splits with positive gain, best gain: -inf\n",
      "[LightGBM] [Warning] No further splits with positive gain, best gain: -inf\n",
      "[LightGBM] [Warning] No further splits with positive gain, best gain: -inf\n",
      "[LightGBM] [Warning] No further splits with positive gain, best gain: -inf\n",
      "[LightGBM] [Warning] No further splits with positive gain, best gain: -inf\n",
      "[LightGBM] [Warning] No further splits with positive gain, best gain: -inf\n",
      "[LightGBM] [Warning] No further splits with positive gain, best gain: -inf\n",
      "[LightGBM] [Warning] No further splits with positive gain, best gain: -inf\n",
      "[LightGBM] [Warning] No further splits with positive gain, best gain: -inf\n",
      "[LightGBM] [Warning] No further splits with positive gain, best gain: -inf\n",
      "[LightGBM] [Warning] No further splits with positive gain, best gain: -inf\n",
      "[LightGBM] [Warning] No further splits with positive gain, best gain: -inf\n",
      "[LightGBM] [Warning] No further splits with positive gain, best gain: -inf\n",
      "[LightGBM] [Warning] No further splits with positive gain, best gain: -inf\n",
      "[LightGBM] [Warning] No further splits with positive gain, best gain: -inf\n",
      "[LightGBM] [Warning] No further splits with positive gain, best gain: -inf\n",
      "[LightGBM] [Warning] No further splits with positive gain, best gain: -inf\n",
      "[LightGBM] [Warning] No further splits with positive gain, best gain: -inf\n",
      "[LightGBM] [Warning] No further splits with positive gain, best gain: -inf\n",
      "[LightGBM] [Warning] No further splits with positive gain, best gain: -inf\n",
      "[LightGBM] [Warning] No further splits with positive gain, best gain: -inf\n",
      "[LightGBM] [Warning] No further splits with positive gain, best gain: -inf\n",
      "[LightGBM] [Warning] No further splits with positive gain, best gain: -inf\n",
      "[LightGBM] [Warning] No further splits with positive gain, best gain: -inf\n",
      "[LightGBM] [Warning] No further splits with positive gain, best gain: -inf\n",
      "[LightGBM] [Warning] No further splits with positive gain, best gain: -inf\n",
      "[LightGBM] [Info] Number of positive: 58, number of negative: 92\n",
      "[LightGBM] [Info] Auto-choosing col-wise multi-threading, the overhead of testing was 0.000146 seconds.\n",
      "You can set `force_col_wise=true` to remove the overhead.\n",
      "[LightGBM] [Info] Total Bins 1020\n",
      "[LightGBM] [Info] Number of data points in the train set: 150, number of used features: 20\n",
      "[LightGBM] [Info] [binary:BoostFromScore]: pavg=0.386667 -> initscore=-0.461346\n",
      "[LightGBM] [Info] Start training from score -0.461346\n",
      "[LightGBM] [Warning] No further splits with positive gain, best gain: -inf\n",
      "[LightGBM] [Warning] No further splits with positive gain, best gain: -inf\n",
      "[LightGBM] [Warning] No further splits with positive gain, best gain: -inf\n",
      "[LightGBM] [Warning] No further splits with positive gain, best gain: -inf\n",
      "[LightGBM] [Warning] No further splits with positive gain, best gain: -inf\n",
      "[LightGBM] [Warning] No further splits with positive gain, best gain: -inf\n",
      "[LightGBM] [Warning] No further splits with positive gain, best gain: -inf\n",
      "[LightGBM] [Warning] No further splits with positive gain, best gain: -inf\n",
      "[LightGBM] [Warning] No further splits with positive gain, best gain: -inf\n",
      "[LightGBM] [Warning] No further splits with positive gain, best gain: -inf\n",
      "[LightGBM] [Warning] No further splits with positive gain, best gain: -inf\n",
      "[LightGBM] [Warning] No further splits with positive gain, best gain: -inf\n",
      "[LightGBM] [Warning] No further splits with positive gain, best gain: -inf\n",
      "[LightGBM] [Warning] No further splits with positive gain, best gain: -inf\n",
      "[LightGBM] [Warning] No further splits with positive gain, best gain: -inf\n",
      "[LightGBM] [Warning] No further splits with positive gain, best gain: -inf\n",
      "[LightGBM] [Warning] No further splits with positive gain, best gain: -inf\n",
      "[LightGBM] [Warning] No further splits with positive gain, best gain: -inf\n",
      "[LightGBM] [Warning] No further splits with positive gain, best gain: -inf\n",
      "[LightGBM] [Warning] No further splits with positive gain, best gain: -inf\n",
      "[LightGBM] [Warning] No further splits with positive gain, best gain: -inf\n",
      "[LightGBM] [Warning] No further splits with positive gain, best gain: -inf\n",
      "[LightGBM] [Warning] No further splits with positive gain, best gain: -inf\n",
      "[LightGBM] [Warning] No further splits with positive gain, best gain: -inf\n",
      "[LightGBM] [Warning] No further splits with positive gain, best gain: -inf\n",
      "[LightGBM] [Warning] No further splits with positive gain, best gain: -inf\n",
      "[LightGBM] [Warning] No further splits with positive gain, best gain: -inf\n",
      "[LightGBM] [Warning] No further splits with positive gain, best gain: -inf\n",
      "[LightGBM] [Warning] No further splits with positive gain, best gain: -inf\n",
      "[LightGBM] [Warning] No further splits with positive gain, best gain: -inf\n",
      "[LightGBM] [Warning] No further splits with positive gain, best gain: -inf\n",
      "[LightGBM] [Warning] No further splits with positive gain, best gain: -inf\n",
      "[LightGBM] [Warning] No further splits with positive gain, best gain: -inf\n",
      "[LightGBM] [Warning] No further splits with positive gain, best gain: -inf\n",
      "[LightGBM] [Warning] No further splits with positive gain, best gain: -inf\n",
      "[LightGBM] [Warning] No further splits with positive gain, best gain: -inf\n",
      "[LightGBM] [Warning] No further splits with positive gain, best gain: -inf\n",
      "[LightGBM] [Warning] No further splits with positive gain, best gain: -inf\n",
      "[LightGBM] [Warning] No further splits with positive gain, best gain: -inf\n",
      "[LightGBM] [Warning] No further splits with positive gain, best gain: -inf\n",
      "[LightGBM] [Warning] No further splits with positive gain, best gain: -inf\n",
      "[LightGBM] [Warning] No further splits with positive gain, best gain: -inf\n",
      "[LightGBM] [Warning] No further splits with positive gain, best gain: -inf\n",
      "[LightGBM] [Warning] No further splits with positive gain, best gain: -inf\n",
      "[LightGBM] [Warning] No further splits with positive gain, best gain: -inf\n",
      "[LightGBM] [Warning] No further splits with positive gain, best gain: -inf\n",
      "[LightGBM] [Warning] No further splits with positive gain, best gain: -inf\n",
      "[LightGBM] [Warning] No further splits with positive gain, best gain: -inf\n",
      "[LightGBM] [Warning] No further splits with positive gain, best gain: -inf\n",
      "[LightGBM] [Warning] No further splits with positive gain, best gain: -inf\n",
      "[LightGBM] [Warning] No further splits with positive gain, best gain: -inf\n",
      "[LightGBM] [Warning] No further splits with positive gain, best gain: -inf\n",
      "[LightGBM] [Warning] No further splits with positive gain, best gain: -inf\n",
      "[LightGBM] [Warning] No further splits with positive gain, best gain: -inf\n",
      "[LightGBM] [Warning] No further splits with positive gain, best gain: -inf\n",
      "[LightGBM] [Warning] No further splits with positive gain, best gain: -inf\n",
      "[LightGBM] [Warning] No further splits with positive gain, best gain: -inf\n",
      "[LightGBM] [Warning] No further splits with positive gain, best gain: -inf\n",
      "[LightGBM] [Warning] No further splits with positive gain, best gain: -inf\n",
      "[LightGBM] [Warning] No further splits with positive gain, best gain: -inf\n",
      "[LightGBM] [Warning] No further splits with positive gain, best gain: -inf\n",
      "[LightGBM] [Warning] No further splits with positive gain, best gain: -inf\n",
      "[LightGBM] [Warning] No further splits with positive gain, best gain: -inf\n",
      "[LightGBM] [Warning] No further splits with positive gain, best gain: -inf\n",
      "[LightGBM] [Warning] No further splits with positive gain, best gain: -inf\n",
      "[LightGBM] [Warning] No further splits with positive gain, best gain: -inf\n",
      "[LightGBM] [Warning] No further splits with positive gain, best gain: -inf\n",
      "[LightGBM] [Warning] No further splits with positive gain, best gain: -inf\n",
      "[LightGBM] [Warning] No further splits with positive gain, best gain: -inf\n",
      "[LightGBM] [Warning] No further splits with positive gain, best gain: -inf\n",
      "[LightGBM] [Warning] No further splits with positive gain, best gain: -inf\n",
      "[LightGBM] [Warning] No further splits with positive gain, best gain: -inf\n",
      "[LightGBM] [Warning] No further splits with positive gain, best gain: -inf\n",
      "[LightGBM] [Warning] No further splits with positive gain, best gain: -inf\n",
      "[LightGBM] [Warning] No further splits with positive gain, best gain: -inf\n",
      "[LightGBM] [Warning] No further splits with positive gain, best gain: -inf\n",
      "[LightGBM] [Warning] No further splits with positive gain, best gain: -inf\n",
      "[LightGBM] [Warning] No further splits with positive gain, best gain: -inf\n",
      "[LightGBM] [Warning] No further splits with positive gain, best gain: -inf\n",
      "[LightGBM] [Warning] No further splits with positive gain, best gain: -inf\n",
      "[LightGBM] [Warning] No further splits with positive gain, best gain: -inf\n",
      "[LightGBM] [Warning] No further splits with positive gain, best gain: -inf\n",
      "[LightGBM] [Warning] No further splits with positive gain, best gain: -inf\n",
      "[LightGBM] [Warning] No further splits with positive gain, best gain: -inf\n",
      "[LightGBM] [Warning] No further splits with positive gain, best gain: -inf\n",
      "[LightGBM] [Warning] No further splits with positive gain, best gain: -inf\n",
      "[LightGBM] [Warning] No further splits with positive gain, best gain: -inf\n",
      "[LightGBM] [Warning] No further splits with positive gain, best gain: -inf\n",
      "[LightGBM] [Warning] No further splits with positive gain, best gain: -inf\n",
      "[LightGBM] [Warning] No further splits with positive gain, best gain: -inf\n",
      "[LightGBM] [Warning] No further splits with positive gain, best gain: -inf\n",
      "[LightGBM] [Warning] No further splits with positive gain, best gain: -inf\n",
      "[LightGBM] [Warning] No further splits with positive gain, best gain: -inf\n",
      "[LightGBM] [Warning] No further splits with positive gain, best gain: -inf\n",
      "[LightGBM] [Warning] No further splits with positive gain, best gain: -inf\n",
      "[LightGBM] [Warning] No further splits with positive gain, best gain: -inf\n",
      "[LightGBM] [Warning] No further splits with positive gain, best gain: -inf\n",
      "[LightGBM] [Warning] No further splits with positive gain, best gain: -inf\n",
      "[LightGBM] [Warning] No further splits with positive gain, best gain: -inf\n",
      "[LightGBM] [Warning] No further splits with positive gain, best gain: -inf\n"
     ]
    }
   ],
   "source": [
    "#fit into lgbm model\n",
    "lgbm = lgb.LGBMClassifier(random_state = 1)\n",
    "lgbm = lgbm.fit(X_train, y_train)\n",
    "\n",
    "lgbm_reduced = lgb.LGBMClassifier(random_state = 1)\n",
    "lgbm_reduced = lgbm_reduced.fit(X_train_reduced, y_train_reduced)"
   ]
  },
  {
   "cell_type": "markdown",
   "id": "0a1c254f",
   "metadata": {},
   "source": [
    "<center><h3> No Dimension Reduction"
   ]
  },
  {
   "cell_type": "code",
   "execution_count": 45,
   "id": "055e610f",
   "metadata": {},
   "outputs": [
    {
     "name": "stdout",
     "output_type": "stream",
     "text": [
      "376 µs ± 31.7 µs per loop (mean ± std. dev. of 7 runs, 1,000 loops each)\n"
     ]
    },
    {
     "data": {
      "image/png": "[encoded data removed]",
      "text/plain": [
       "<Figure size 1400x1000 with 2 Axes>"
      ]
     },
     "metadata": {},
     "output_type": "display_data"
    }
   ],
   "source": [
    "#separate into predicted an actual values to create confusion matrix\n",
    "%timeit y_predictions = lgbm.predict(X_test)\n",
    "\n",
    "confusion_matrix = metrics.confusion_matrix(y_test, y_predictions)\n",
    "\n",
    "cm_display = metrics.ConfusionMatrixDisplay(confusion_matrix = confusion_matrix, display_labels = ['True', 'False'])\n",
    "\n",
    "cm_display.plot()\n",
    "plt.show()"
   ]
  },
  {
   "cell_type": "code",
   "execution_count": 46,
   "id": "a48e7705",
   "metadata": {},
   "outputs": [
    {
     "name": "stdout",
     "output_type": "stream",
     "text": [
      "{'Accuracy': 0.92, 'Precision': 0.9274603174603174, 'Recall_score': 0.92, 'F1_score': 0.921995841995842}\n"
     ]
    }
   ],
   "source": [
    "#calculate ml metrics\n",
    "accuracy = metrics.accuracy_score(y_test, y_predictions)\n",
    "precision = metrics.precision_score(y_test, y_predictions, average = 'weighted')\n",
    "recall = metrics.recall_score(y_test, y_predictions, average = 'weighted')\n",
    "f1 = metrics.f1_score(y_test, y_predictions, average = 'weighted')\n",
    "\n",
    "#print metrics\n",
    "print({\"Accuracy\": accuracy,\"Precision\": precision,\"Recall_score\": recall, \"F1_score\": f1})"
   ]
  },
  {
   "cell_type": "code",
   "execution_count": 47,
   "id": "9c4ddcc5",
   "metadata": {},
   "outputs": [
    {
     "name": "stdout",
     "output_type": "stream",
     "text": [
      "256 µs ± 25.4 µs per loop (mean ± std. dev. of 7 runs, 1,000 loops each)\n"
     ]
    },
    {
     "data": {
      "image/png": "[encoded data removed]",
      "text/plain": [
       "<Figure size 1400x1000 with 2 Axes>"
      ]
     },
     "metadata": {},
     "output_type": "display_data"
    }
   ],
   "source": [
    "#separate into predicted an actual values to create confusion matrix\n",
    "%timeit y_predictions_reduced = lgbm_reduced.predict(X_test_reduced)\n",
    "\n",
    "confusion_matrix = metrics.confusion_matrix(y_test, y_predictions_reduced)\n",
    "\n",
    "cm_display = metrics.ConfusionMatrixDisplay(confusion_matrix = confusion_matrix, display_labels = ['True', 'False'])\n",
    "\n",
    "cm_display.plot()\n",
    "plt.show()"
   ]
  },
  {
   "cell_type": "code",
   "execution_count": 48,
   "id": "23d0c5d8",
   "metadata": {},
   "outputs": [
    {
     "name": "stdout",
     "output_type": "stream",
     "text": [
      "{'Accuracy': 0.9, 'Precision': 0.9294117647058823, 'Recall_score': 0.9, 'F1_score': 0.905099562894609}\n"
     ]
    }
   ],
   "source": [
    "#calculate ml metrics\n",
    "accuracy = metrics.accuracy_score(y_test_reduced, y_predictions_reduced)\n",
    "precision = metrics.precision_score(y_test_reduced, y_predictions_reduced, average = 'weighted')\n",
    "recall = metrics.recall_score(y_test_reduced, y_predictions_reduced, average = 'weighted')\n",
    "f1 = metrics.f1_score(y_test_reduced, y_predictions_reduced, average = 'weighted')\n",
    "\n",
    "#print metrics\n",
    "print({\"Accuracy\": accuracy,\"Precision\": precision,\"Recall_score\": recall, \"F1_score\": f1})"
   ]
  }
 ],
 "metadata": {
  "kernelspec": {
   "display_name": "base",
   "language": "python",
   "name": "python3"
  },
  "language_info": {
   "codemirror_mode": {
    "name": "ipython",
    "version": 3
   },
   "file_extension": ".py",
   "mimetype": "text/x-python",
   "name": "python",
   "nbconvert_exporter": "python",
   "pygments_lexer": "ipython3",
   "version": "3.11.8"
  }
 },
 "nbformat": 4,
 "nbformat_minor": 5
}
